{
 "cells": [
  {
   "cell_type": "code",
   "execution_count": 10,
   "id": "f89972ee",
   "metadata": {},
   "outputs": [
    {
     "name": "stdout",
     "output_type": "stream",
     "text": [
      "Addition : 30\n",
      "Subtraction : 10\n",
      "Multiplication : 200\n",
      "Divison : 2.0\n",
      "Modulus : 0\n",
      "Exponential : 10240000000000\n",
      "Floor Division : 2\n"
     ]
    }
   ],
   "source": [
    "# Arithemetic Operations\n",
    "a = 20\n",
    "b = 10\n",
    "str1 = 'Anand'\n",
    "str2 = 'Anand'\n",
    "\n",
    "str3 = 'anand'\n",
    "\n",
    "# Addition\n",
    "print('Addition :',a+b)\n",
    "print('Subtraction :',a-b)\n",
    "print('Multiplication :',a*b)\n",
    "print('Divison :',a/b)\n",
    "print('Modulus :',a%b)\n",
    "print('Exponential :',a**b)\n",
    "print('Floor Division :',a//b)\n"
   ]
  },
  {
   "cell_type": "code",
   "execution_count": 17,
   "id": "163eeab1",
   "metadata": {},
   "outputs": [
    {
     "name": "stdout",
     "output_type": "stream",
     "text": [
      "Equality(==) : False\n",
      "Equality(==) : True\n",
      "Equality(==) : False\n",
      "Greater than(>) : True\n",
      "Less than(<) : False\n",
      "Greater than or equal to (>=) : True\n",
      "Less than or equal to (<=) : True\n"
     ]
    }
   ],
   "source": [
    "# Comparision Operators \n",
    "print('Equality(==) :',a==b)\n",
    "print('Equality(==) :',str1 == str2)\n",
    "print('Equality(==) :',str1 == str3)\n",
    "\n",
    "# Geater than\n",
    "print('Greater than(>) :',a>b)\n",
    "\n",
    "# Less than\n",
    "print('Less than(<) :',a<b)\n",
    "\n",
    "# Greater than or equal to\n",
    "print('Greater than or equal to (>=) :',45>=45)\n",
    "\n",
    "# less than or equal to\n",
    "print('Less than or equal to (<=) :',20<=45)"
   ]
  },
  {
   "cell_type": "markdown",
   "id": "ce55cd22",
   "metadata": {},
   "source": [
    "#### LOGICAL OPERATORS"
   ]
  },
  {
   "cell_type": "code",
   "execution_count": 22,
   "id": "d74b4ca3",
   "metadata": {},
   "outputs": [
    {
     "name": "stdout",
     "output_type": "stream",
     "text": [
      "AND False\n",
      "OR True\n",
      "NOT False\n",
      "NOT True\n"
     ]
    }
   ],
   "source": [
    "# Logical Operators\n",
    "x = True\n",
    "y = False\n",
    "\n",
    "print('AND', x and y)\n",
    "print('OR', x or y)\n",
    "print('NOT', not x)\n",
    "print('NOT', not y)"
   ]
  },
  {
   "cell_type": "code",
   "execution_count": null,
   "id": "583fee5c",
   "metadata": {},
   "outputs": [],
   "source": []
  }
 ],
 "metadata": {
  "kernelspec": {
   "display_name": "Python 3",
   "language": "python",
   "name": "python3"
  },
  "language_info": {
   "codemirror_mode": {
    "name": "ipython",
    "version": 3
   },
   "file_extension": ".py",
   "mimetype": "text/x-python",
   "name": "python",
   "nbconvert_exporter": "python",
   "pygments_lexer": "ipython3",
   "version": "3.13.1"
  }
 },
 "nbformat": 4,
 "nbformat_minor": 5
}
