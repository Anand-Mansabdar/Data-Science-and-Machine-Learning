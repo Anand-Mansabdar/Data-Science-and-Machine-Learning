{
 "cells": [
  {
   "cell_type": "code",
   "execution_count": 22,
   "id": "571d68e0",
   "metadata": {},
   "outputs": [
    {
     "name": "stdout",
     "output_type": "stream",
     "text": [
      "Eligible for driving liscence\n"
     ]
    }
   ],
   "source": [
    "# if statement\n",
    "age = 18\n",
    "if age >= 18 : \n",
    "  print('Eligible for driving liscence')\n",
    "  \n"
   ]
  },
  {
   "cell_type": "code",
   "execution_count": 21,
   "id": "2b10cbc1",
   "metadata": {},
   "outputs": [
    {
     "name": "stdout",
     "output_type": "stream",
     "text": [
      "Ineligible to vote\n"
     ]
    }
   ],
   "source": [
    "# if else \n",
    "if age >= 18:\n",
    "  print('Eligible to vote')\n",
    "else :\n",
    "  print('Ineligible to vote')\n",
    "  \n",
    "# Else statement gets executed if the if statement is false"
   ]
  },
  {
   "cell_type": "code",
   "execution_count": null,
   "id": "6f6aed73",
   "metadata": {},
   "outputs": [
    {
     "name": "stdout",
     "output_type": "stream",
     "text": [
      "You are an adult\n"
     ]
    }
   ],
   "source": [
    "age = 57\n",
    "# elif \n",
    "if age >= 13 and age <=19 :\n",
    "  print('You are a teenager')\n",
    "elif age > 19 and age <=60:\n",
    "  print('You are an adult')\n",
    "elif age > 60:\n",
    "  print('You are a senior citizen')\n",
    "else: \n",
    "  print('Your age is less than 13')\n",
    "  \n",
    "# Elif is used to write multiple conditions within an ifelse statement"
   ]
  },
  {
   "cell_type": "code",
   "execution_count": 32,
   "id": "7974f676",
   "metadata": {},
   "outputs": [
    {
     "name": "stdout",
     "output_type": "stream",
     "text": [
      "The number is odd negative\n"
     ]
    }
   ],
   "source": [
    "# Nested conditional statements\n",
    "num = -49 # Try with 90, 0, -90, -57 or any numbers of your choice\n",
    "if num > 0:\n",
    "  if(num % 2 == 0):\n",
    "    print('The number is even positive')\n",
    "  else :\n",
    "    print('The number is odd positive')\n",
    "elif num < 0:\n",
    "  if num % 2 == 0:\n",
    "    print('The number is even negative')\n",
    "  else:\n",
    "    print('The number is odd negative')\n",
    "else: \n",
    "  print('The number is a zero')"
   ]
  },
  {
   "cell_type": "code",
   "execution_count": 34,
   "id": "c9fb9d3e",
   "metadata": {},
   "outputs": [
    {
     "name": "stdout",
     "output_type": "stream",
     "text": [
      "The year 2024 is a leap year\n"
     ]
    }
   ],
   "source": [
    "# Example :- Determining if a year is a leap year or not\n",
    "\n",
    "year = int(input('Enter a year : '))\n",
    "if year %4 == 0:\n",
    "  if year % 100 == 0:\n",
    "    if year % 400 == 0:\n",
    "      print(f'The year {year} is a leap year')\n",
    "    else : \n",
    "      print(f'The year {year} is not a leap year')\n",
    "  else :\n",
    "    print(f'The year {year} is a leap year')\n",
    "else:\n",
    "  print(f'The year {year} is not a leap year')\n",
    "      "
   ]
  },
  {
   "cell_type": "code",
   "execution_count": null,
   "id": "a11f70c8",
   "metadata": {},
   "outputs": [
    {
     "name": "stdout",
     "output_type": "stream",
     "text": [
      "range(1, 10, 2)\n"
     ]
    }
   ],
   "source": []
  },
  {
   "cell_type": "code",
   "execution_count": null,
   "id": "8d848717",
   "metadata": {},
   "outputs": [],
   "source": []
  }
 ],
 "metadata": {
  "kernelspec": {
   "display_name": "base",
   "language": "python",
   "name": "python3"
  },
  "language_info": {
   "codemirror_mode": {
    "name": "ipython",
    "version": 3
   },
   "file_extension": ".py",
   "mimetype": "text/x-python",
   "name": "python",
   "nbconvert_exporter": "python",
   "pygments_lexer": "ipython3",
   "version": "3.12.7"
  }
 },
 "nbformat": 4,
 "nbformat_minor": 5
}
