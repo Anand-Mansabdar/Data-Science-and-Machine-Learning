{
 "cells": [
  {
   "cell_type": "code",
   "execution_count": 3,
   "id": "e41d8d70",
   "metadata": {},
   "outputs": [
    {
     "name": "stdout",
     "output_type": "stream",
     "text": [
      "<class 'list'>\n"
     ]
    }
   ],
   "source": [
    "# List creation\n",
    "list = []\n",
    "print(type(list))"
   ]
  },
  {
   "cell_type": "code",
   "execution_count": null,
   "id": "5d76b68b",
   "metadata": {},
   "outputs": [
    {
     "name": "stdout",
     "output_type": "stream",
     "text": [
      "['Anand', 'Virat', 'Rohit', 1, True, 15.5]\n",
      "<class 'list'>\n"
     ]
    }
   ],
   "source": [
    "# Lists can contain heterogenous data ir data with different data types\n",
    "names = ['Anand', 'Virat', 'Rohit', 1, True, 15.5]\n",
    "print(names)\n",
    "print(type(names))"
   ]
  },
  {
   "cell_type": "code",
   "execution_count": null,
   "id": "67b0a962",
   "metadata": {},
   "outputs": [
    {
     "name": "stdout",
     "output_type": "stream",
     "text": [
      "Rohit\n",
      "Virat\n",
      "Anand\n",
      "15.5\n"
     ]
    }
   ],
   "source": [
    "# Accessing list elements :- Indexing starts with 0 in python \n",
    "\n",
    "# Syntax :- (list_name[index])\n",
    "print(names[2])\n",
    "print(names[1])\n",
    "print(names[0])\n",
    "print(names[5])"
   ]
  },
  {
   "cell_type": "code",
   "execution_count": null,
   "id": "1c8af5bb",
   "metadata": {},
   "outputs": [
    {
     "name": "stdout",
     "output_type": "stream",
     "text": [
      "[1, True, 15.5]\n",
      "[15.5, True, 1, 'Rohit']\n",
      "['Anand', 'Rohit']\n"
     ]
    }
   ],
   "source": [
    "# List Slicing \n",
    "# Syntax :- (list_name[start: stop: step])\n",
    "print(names[3:])\n",
    "print(names[-1: -5: -1])\n",
    "print(names[0: 4: 2])"
   ]
  },
  {
   "cell_type": "code",
   "execution_count": 14,
   "id": "00154aec",
   "metadata": {},
   "outputs": [
    {
     "name": "stdout",
     "output_type": "stream",
     "text": [
      "['Anand Mansabdar', 'Virat', 'Rohit', 1, True, 15.5]\n"
     ]
    }
   ],
   "source": [
    "# Element modification\n",
    "names[0] = 'Anand Mansabdar'\n",
    "print(names)"
   ]
  },
  {
   "cell_type": "markdown",
   "id": "de6c3e85",
   "metadata": {},
   "source": [
    "#### LIST METHODS"
   ]
  },
  {
   "cell_type": "code",
   "execution_count": 15,
   "id": "ae51d0a3",
   "metadata": {},
   "outputs": [
    {
     "name": "stdout",
     "output_type": "stream",
     "text": [
      "['Anand Mansabdar', 'Virat', 'Rohit', 1, True, 15.5, 'Bumrah']\n"
     ]
    }
   ],
   "source": [
    "# Appending elements\n",
    "# Syntax:- list_name.append(element_name)\n",
    "names.append('Bumrah')\n",
    "print(names)"
   ]
  },
  {
   "cell_type": "code",
   "execution_count": 17,
   "id": "c33b69b1",
   "metadata": {},
   "outputs": [
    {
     "name": "stdout",
     "output_type": "stream",
     "text": [
      "['Anand Mansabdar', 'Virat', 'Rohit', 'Python with Krish Naik', 'Python with Krish Naik', 1, True, 15.5, 'Bumrah']\n"
     ]
    }
   ],
   "source": [
    "# Inserting elements\n",
    "# Syntax :- list_name.insert(position/index, element_name)\n",
    "names.insert(3, 'Python with Krish Naik') # Inserts element at 3rd index and moves elements after 3 to right by 1 index\n",
    "print(names)"
   ]
  },
  {
   "cell_type": "code",
   "execution_count": 22,
   "id": "097ac520",
   "metadata": {},
   "outputs": [
    {
     "name": "stdout",
     "output_type": "stream",
     "text": [
      "['Anand Mansabdar', 'Virat', 'Rohit', 15.5, 'Bumrah']\n"
     ]
    }
   ],
   "source": [
    "# Removing elements\n",
    "# Syntax:- list_name.remove(element_name)\n",
    "# names.remove('Python with Krish Naik')\n",
    "names.remove(True)\n",
    "print(names)"
   ]
  },
  {
   "cell_type": "code",
   "execution_count": 25,
   "id": "7a0d6e8b",
   "metadata": {},
   "outputs": [
    {
     "name": "stdout",
     "output_type": "stream",
     "text": [
      "['Anand Mansabdar', 'Virat']\n"
     ]
    }
   ],
   "source": [
    "# Remove and return the list\n",
    "names.pop() # Remove the last element and return the element\n",
    "print(names)"
   ]
  },
  {
   "cell_type": "code",
   "execution_count": null,
   "id": "5d3ba13a",
   "metadata": {},
   "outputs": [
    {
     "name": "stdout",
     "output_type": "stream",
     "text": [
      "1\n"
     ]
    }
   ],
   "source": [
    "# .index(element) :- Finds the position at which the element is present and returns it\n",
    "idx = names.index('Virat')\n",
    "print(idx)"
   ]
  },
  {
   "cell_type": "code",
   "execution_count": null,
   "id": "883bd1ab",
   "metadata": {},
   "outputs": [
    {
     "name": "stdout",
     "output_type": "stream",
     "text": [
      "2\n"
     ]
    }
   ],
   "source": [
    "# count() :- COunts the number of occurances of an element\n",
    "names.append('Virat')\n",
    "count  = names.count('Virat')\n",
    "print(count)"
   ]
  },
  {
   "cell_type": "code",
   "execution_count": null,
   "id": "bdda862f",
   "metadata": {},
   "outputs": [
    {
     "data": {
      "text/plain": [
       "['Anand Mansabdar', 'Bob', 'Virat', 'Virat']"
      ]
     },
     "execution_count": 30,
     "metadata": {},
     "output_type": "execute_result"
    }
   ],
   "source": [
    "# .sort() :- sorts the list\n",
    "names.append('Bob')\n",
    "names.sort()\n",
    "names"
   ]
  },
  {
   "cell_type": "code",
   "execution_count": null,
   "id": "4d2ba996",
   "metadata": {},
   "outputs": [
    {
     "data": {
      "text/plain": [
       "['Virat', 'Virat', 'Bob', 'Anand Mansabdar']"
      ]
     },
     "execution_count": 31,
     "metadata": {},
     "output_type": "execute_result"
    }
   ],
   "source": [
    "# reverse() :- reverses the list\n",
    "names.reverse()\n",
    "names"
   ]
  },
  {
   "cell_type": "code",
   "execution_count": null,
   "id": "13690ff8",
   "metadata": {},
   "outputs": [
    {
     "data": {
      "text/plain": [
       "[]"
      ]
     },
     "execution_count": 32,
     "metadata": {},
     "output_type": "execute_result"
    }
   ],
   "source": [
    "# .clear() :- clears the entire list\n",
    "names.clear()\n",
    "names"
   ]
  },
  {
   "cell_type": "markdown",
   "id": "863f4c5a",
   "metadata": {},
   "source": [
    "#### MORE ON SLICING"
   ]
  },
  {
   "cell_type": "code",
   "execution_count": 35,
   "id": "53375395",
   "metadata": {},
   "outputs": [
    {
     "name": "stdout",
     "output_type": "stream",
     "text": [
      "[3, 4, 5]\n",
      "[1, 2, 3, 4, 5]\n",
      "[6, 7, 8, 9, 10]\n",
      "[1, 4, 7, 10]\n",
      "[10, 8, 6, 4, 2]\n"
     ]
    }
   ],
   "source": [
    "nums = [1, 2, 3, 4, 5, 6, 7, 8, 9, 10]\n",
    "print(nums[2: 5])\n",
    "print(nums[:5])\n",
    "print(nums[5:])\n",
    "print(nums[::3])\n",
    "print(nums[::-2])"
   ]
  },
  {
   "cell_type": "markdown",
   "id": "a8a80bbb",
   "metadata": {},
   "source": [
    "#### ITERATING OVER LISTS"
   ]
  },
  {
   "cell_type": "code",
   "execution_count": null,
   "id": "2ad56bbf",
   "metadata": {},
   "outputs": [
    {
     "name": "stdout",
     "output_type": "stream",
     "text": [
      "1\n",
      "2\n",
      "3\n",
      "4\n",
      "5\n",
      "6\n",
      "7\n",
      "8\n",
      "9\n",
      "10\n"
     ]
    }
   ],
   "source": [
    "# Iterating without indexes\n",
    "for num in nums: \n",
    "  print(num)"
   ]
  },
  {
   "cell_type": "code",
   "execution_count": 39,
   "id": "6d532849",
   "metadata": {},
   "outputs": [
    {
     "name": "stdout",
     "output_type": "stream",
     "text": [
      "0 : 1\n",
      "1 : 2\n",
      "2 : 3\n",
      "3 : 4\n",
      "4 : 5\n",
      "5 : 6\n",
      "6 : 7\n",
      "7 : 8\n",
      "8 : 9\n",
      "9 : 10\n"
     ]
    }
   ],
   "source": [
    "# Iterating with indexes\n",
    "for idx, num in enumerate(nums):\n",
    "  print(f'{idx} : {num}')"
   ]
  },
  {
   "cell_type": "code",
   "execution_count": null,
   "id": "4e549b93",
   "metadata": {},
   "outputs": [
    {
     "data": {
      "text/plain": [
       "[0, 2, 4, 6, 8]"
      ]
     },
     "execution_count": 42,
     "metadata": {},
     "output_type": "execute_result"
    }
   ],
   "source": [
    "list = []\n",
    "for i in range(5):\n",
    "  list.append(i*2)\n",
    "list"
   ]
  },
  {
   "cell_type": "code",
   "execution_count": null,
   "id": "d31df6b6",
   "metadata": {},
   "outputs": [
    {
     "data": {
      "text/plain": [
       "[0, 1, 8, 27, 64]"
      ]
     },
     "execution_count": 43,
     "metadata": {},
     "output_type": "execute_result"
    }
   ],
   "source": [
    "# List comprehension\n",
    "# Syntax :- [expression for item in iterable]\n",
    "# [expression for item in iterable if condition]\n",
    "\n",
    "[x**3 for x in range(5)]"
   ]
  },
  {
   "cell_type": "code",
   "execution_count": 44,
   "id": "1f8f88b4",
   "metadata": {},
   "outputs": [
    {
     "data": {
      "text/plain": [
       "[0, 2, 4, 6, 8]"
      ]
     },
     "execution_count": 44,
     "metadata": {},
     "output_type": "execute_result"
    }
   ],
   "source": [
    "# List comprehension with condition\n",
    "even = []\n",
    "for i in range (10):\n",
    "  if i%2 == 0:\n",
    "    even.append(i)\n",
    "even"
   ]
  },
  {
   "cell_type": "code",
   "execution_count": 1,
   "id": "17789cae",
   "metadata": {},
   "outputs": [
    {
     "data": {
      "text/plain": [
       "[0, 2, 4, 6, 8]"
      ]
     },
     "execution_count": 1,
     "metadata": {},
     "output_type": "execute_result"
    }
   ],
   "source": [
    "[x for x in range(10) if x%2 == 0]"
   ]
  },
  {
   "cell_type": "code",
   "execution_count": 2,
   "id": "7f6d8c14",
   "metadata": {},
   "outputs": [
    {
     "data": {
      "text/plain": [
       "[[1, 'a'],\n",
       " [1, 'b'],\n",
       " [1, 'c'],\n",
       " [1, 'd'],\n",
       " [1, 'e'],\n",
       " [2, 'a'],\n",
       " [2, 'b'],\n",
       " [2, 'c'],\n",
       " [2, 'd'],\n",
       " [2, 'e'],\n",
       " [3, 'a'],\n",
       " [3, 'b'],\n",
       " [3, 'c'],\n",
       " [3, 'd'],\n",
       " [3, 'e'],\n",
       " [4, 'a'],\n",
       " [4, 'b'],\n",
       " [4, 'c'],\n",
       " [4, 'd'],\n",
       " [4, 'e']]"
      ]
     },
     "execution_count": 2,
     "metadata": {},
     "output_type": "execute_result"
    }
   ],
   "source": [
    "# Nested list comprehension\n",
    "list1 =[1, 2, 3, 4]\n",
    "list2 = ['a', 'b', 'c', 'd', 'e']\n",
    "pair = [[i, j] for i in list1 for j in list2]\n",
    "pair"
   ]
  },
  {
   "cell_type": "code",
   "execution_count": 3,
   "id": "dd82cda6",
   "metadata": {},
   "outputs": [
    {
     "data": {
      "text/plain": [
       "[5, 5, 6, 4, 13]"
      ]
     },
     "execution_count": 3,
     "metadata": {},
     "output_type": "execute_result"
    }
   ],
   "source": [
    "# List comprehension with function calls\n",
    "words = ['hello', 'world', 'python', 'list', 'comprehension']\n",
    "lengths = [len(word) for word in words]\n",
    "lengths"
   ]
  },
  {
   "cell_type": "code",
   "execution_count": null,
   "id": "62e43455",
   "metadata": {},
   "outputs": [],
   "source": []
  }
 ],
 "metadata": {
  "kernelspec": {
   "display_name": "base",
   "language": "python",
   "name": "python3"
  },
  "language_info": {
   "codemirror_mode": {
    "name": "ipython",
    "version": 3
   },
   "file_extension": ".py",
   "mimetype": "text/x-python",
   "name": "python",
   "nbconvert_exporter": "python",
   "pygments_lexer": "ipython3",
   "version": "3.12.7"
  }
 },
 "nbformat": 4,
 "nbformat_minor": 5
}
