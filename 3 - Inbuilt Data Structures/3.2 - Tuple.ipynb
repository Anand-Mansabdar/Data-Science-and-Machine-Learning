{
 "cells": [
  {
   "cell_type": "markdown",
   "id": "903489e5",
   "metadata": {},
   "source": [
    "#### INTRODUCTION TO TUPLES"
   ]
  },
  {
   "cell_type": "markdown",
   "id": "fdfef436",
   "metadata": {},
   "source": [
    "Tuples are ordered collections of items that are immutable. They are similar to lists, but their immutability makes them differ"
   ]
  },
  {
   "cell_type": "code",
   "execution_count": 26,
   "id": "f498f317",
   "metadata": {},
   "outputs": [
    {
     "data": {
      "text/plain": [
       "()"
      ]
     },
     "execution_count": 26,
     "metadata": {},
     "output_type": "execute_result"
    }
   ],
   "source": [
    "# creating a tuple\n",
    "t = tuple()\n",
    "t"
   ]
  },
  {
   "cell_type": "code",
   "execution_count": 27,
   "id": "026ba535",
   "metadata": {},
   "outputs": [
    {
     "name": "stdout",
     "output_type": "stream",
     "text": [
      "<class 'list'>\n",
      "<class 'tuple'>\n"
     ]
    }
   ],
   "source": [
    "l = list()\n",
    "t = tuple()\n",
    "print(type(l))\n",
    "print(type(t))"
   ]
  },
  {
   "cell_type": "code",
   "execution_count": 28,
   "id": "c47cd8de",
   "metadata": {},
   "outputs": [
    {
     "data": {
      "text/plain": [
       "[1, 2, 3, 4, 5, 6]"
      ]
     },
     "execution_count": 28,
     "metadata": {},
     "output_type": "execute_result"
    }
   ],
   "source": [
    "list((1, 2, 3, 4, 5, 6))"
   ]
  },
  {
   "cell_type": "code",
   "execution_count": 30,
   "id": "85238cb1",
   "metadata": {},
   "outputs": [
    {
     "data": {
      "text/plain": [
       "(1, 2, 3, 4, 5, 6)"
      ]
     },
     "execution_count": 30,
     "metadata": {},
     "output_type": "execute_result"
    }
   ],
   "source": [
    "t = tuple([1, 2, 3, 4, 5, 6])\n",
    "t"
   ]
  },
  {
   "cell_type": "code",
   "execution_count": 32,
   "id": "7595d3f4",
   "metadata": {},
   "outputs": [
    {
     "data": {
      "text/plain": [
       "(1, 'Hello world', 3.14, False)"
      ]
     },
     "execution_count": 32,
     "metadata": {},
     "output_type": "execute_result"
    }
   ],
   "source": [
    "mixed_tuple = (1, 'Hello world', 3.14, False)\n",
    "mixed_tuple"
   ]
  },
  {
   "cell_type": "code",
   "execution_count": 39,
   "id": "9eff5d21",
   "metadata": {},
   "outputs": [
    {
     "name": "stdout",
     "output_type": "stream",
     "text": [
      "3.14\n",
      "Hello world\n",
      "False\n"
     ]
    }
   ],
   "source": [
    "# Accessing Tuple Elements\n",
    "print(mixed_tuple[2])\n",
    "print(mixed_tuple[1])\n",
    "print(mixed_tuple[-1])\n"
   ]
  },
  {
   "cell_type": "markdown",
   "id": "26d63a7e",
   "metadata": {},
   "source": [
    "#### TUPLE OPERATIONS"
   ]
  },
  {
   "cell_type": "code",
   "execution_count": 40,
   "id": "d4abd51d",
   "metadata": {},
   "outputs": [
    {
     "name": "stdout",
     "output_type": "stream",
     "text": [
      "(1, 'Hello world', 3.14, False, 1, 2, 3, 4, 5, 6)\n"
     ]
    }
   ],
   "source": [
    "# concatenation\n",
    "concat = mixed_tuple + t\n",
    "print(concat)"
   ]
  },
  {
   "cell_type": "code",
   "execution_count": 41,
   "id": "0390a6ea",
   "metadata": {},
   "outputs": [
    {
     "data": {
      "text/plain": [
       "(1, 2, 3, 4, 5, 6, 1, 2, 3, 4, 5, 6)"
      ]
     },
     "execution_count": 41,
     "metadata": {},
     "output_type": "execute_result"
    }
   ],
   "source": [
    "# repetition\n",
    "t * 2"
   ]
  },
  {
   "cell_type": "markdown",
   "id": "b1dc2857",
   "metadata": {},
   "source": [
    "#### TUPLE METHODS"
   ]
  },
  {
   "cell_type": "code",
   "execution_count": null,
   "id": "53f22a71",
   "metadata": {},
   "outputs": [
    {
     "name": "stdout",
     "output_type": "stream",
     "text": [
      "1\n",
      "2\n"
     ]
    }
   ],
   "source": [
    "print(t.count(1)) # Counts the number of occurances of am element\n",
    "print(t.index(3)) # Return the element present at an index"
   ]
  },
  {
   "cell_type": "code",
   "execution_count": 44,
   "id": "a69012eb",
   "metadata": {},
   "outputs": [
    {
     "data": {
      "text/plain": [
       "(1, 'Hello', 3.14)"
      ]
     },
     "execution_count": 44,
     "metadata": {},
     "output_type": "execute_result"
    }
   ],
   "source": [
    "# Packing and Unpacking a tuple\n",
    "packed_tuple = 1, 'Hello', 3.14\n",
    "packed_tuple"
   ]
  },
  {
   "cell_type": "code",
   "execution_count": 47,
   "id": "d8bcfb4d",
   "metadata": {},
   "outputs": [
    {
     "name": "stdout",
     "output_type": "stream",
     "text": [
      "1\n",
      "Hello\n",
      "3.14\n"
     ]
    }
   ],
   "source": [
    "# Unpacking a tuple\n",
    "a, b, c = packed_tuple\n",
    "print(a)\n",
    "print(b)\n",
    "print(c)"
   ]
  },
  {
   "cell_type": "code",
   "execution_count": 48,
   "id": "fcb6a156",
   "metadata": {},
   "outputs": [
    {
     "name": "stdout",
     "output_type": "stream",
     "text": [
      "1\n",
      "[2, 3, 4]\n",
      "5\n"
     ]
    }
   ],
   "source": [
    "# Unpacking with a *\n",
    "nums = (1,2,3,4,5)\n",
    "first, *middle, last = nums\n",
    "print(first)\n",
    "print(middle)\n",
    "print(last)"
   ]
  },
  {
   "cell_type": "code",
   "execution_count": 53,
   "id": "871095d1",
   "metadata": {},
   "outputs": [
    {
     "name": "stdout",
     "output_type": "stream",
     "text": [
      "(1, 2, 3)\n",
      "('a', 'b', 'c')\n",
      "(True, False)\n",
      "(('a', 'b', 'c'),)\n"
     ]
    }
   ],
   "source": [
    "# Nested tuple\n",
    "nested_tuple = ((1, 2, 3), ('a', 'b', 'c'), (True, False))\n",
    "print(nested_tuple[0])\n",
    "print(nested_tuple[1])\n",
    "print(nested_tuple[2])\n",
    "print(nested_tuple[1:2])\n"
   ]
  },
  {
   "cell_type": "code",
   "execution_count": 56,
   "id": "63a61d18",
   "metadata": {},
   "outputs": [
    {
     "name": "stdout",
     "output_type": "stream",
     "text": [
      "1 2 3 \n",
      "a b c \n",
      "True False \n"
     ]
    }
   ],
   "source": [
    "# Iterating over tuples\n",
    "for i in nested_tuple:\n",
    "  for item in i:\n",
    "    print(item, end=\" \")\n",
    "  print()"
   ]
  },
  {
   "cell_type": "code",
   "execution_count": null,
   "id": "fa302a77",
   "metadata": {},
   "outputs": [],
   "source": []
  }
 ],
 "metadata": {
  "kernelspec": {
   "display_name": "base",
   "language": "python",
   "name": "python3"
  },
  "language_info": {
   "codemirror_mode": {
    "name": "ipython",
    "version": 3
   },
   "file_extension": ".py",
   "mimetype": "text/x-python",
   "name": "python",
   "nbconvert_exporter": "python",
   "pygments_lexer": "ipython3",
   "version": "3.12.7"
  }
 },
 "nbformat": 4,
 "nbformat_minor": 5
}
