{
 "cells": [
  {
   "cell_type": "markdown",
   "id": "7a92dcb2",
   "metadata": {},
   "source": [
    "#### SETS\n",
    "Built-in datatype,\n",
    "stores collection of unique items,\n",
    "unordered,\n",
    "no duplicate elements"
   ]
  },
  {
   "cell_type": "code",
   "execution_count": 39,
   "id": "63f755ff",
   "metadata": {},
   "outputs": [
    {
     "name": "stdout",
     "output_type": "stream",
     "text": [
      "{1, 2, 3, 4, 5}\n",
      "<class 'set'>\n",
      "<class 'dict'>\n"
     ]
    }
   ],
   "source": [
    "# Set Creation\n",
    "my_set = {1, 1, 2, 3, 4, 5}\n",
    "print(my_set)\n",
    "print(type(my_set))\n",
    "\n",
    "s = {}\n",
    "print(type(s))"
   ]
  },
  {
   "cell_type": "code",
   "execution_count": 13,
   "id": "26fbf5d5",
   "metadata": {},
   "outputs": [
    {
     "name": "stdout",
     "output_type": "stream",
     "text": [
      "{1, 2, 3, 4, 5, 6}\n"
     ]
    }
   ],
   "source": [
    "l_set = set([1, 2, 3, 3, 3, 4, 5, 5, 6, 6])\n",
    "print(l_set)"
   ]
  },
  {
   "cell_type": "code",
   "execution_count": 18,
   "id": "5da46a72",
   "metadata": {},
   "outputs": [
    {
     "data": {
      "text/plain": [
       "{1, 2, 4, 5, 10}"
      ]
     },
     "execution_count": 18,
     "metadata": {},
     "output_type": "execute_result"
    }
   ],
   "source": [
    "# Set Operations\n",
    "# Adding an element\n",
    "s = {1, 2, 3, 4, 5}\n",
    "s.add(10)\n",
    "s.add(10)\n",
    "s.remove(3)\n",
    "s"
   ]
  },
  {
   "cell_type": "code",
   "execution_count": null,
   "id": "aa5332f7",
   "metadata": {},
   "outputs": [],
   "source": [
    "s.discard(10)\n",
    "# Unlike .remove() discard() does not give an error if an element isnt present in the set"
   ]
  },
  {
   "cell_type": "code",
   "execution_count": null,
   "id": "ce806dc0",
   "metadata": {},
   "outputs": [
    {
     "data": {
      "text/plain": [
       "1"
      ]
     },
     "execution_count": 22,
     "metadata": {},
     "output_type": "execute_result"
    }
   ],
   "source": [
    "# Pop :- removes an element from the start\n",
    "popped = s.pop()\n",
    "popped"
   ]
  },
  {
   "cell_type": "code",
   "execution_count": 23,
   "id": "c2d78308",
   "metadata": {},
   "outputs": [
    {
     "data": {
      "text/plain": [
       "set()"
      ]
     },
     "execution_count": 23,
     "metadata": {},
     "output_type": "execute_result"
    }
   ],
   "source": [
    "# .clear()\n",
    "s.clear()\n",
    "s"
   ]
  },
  {
   "cell_type": "code",
   "execution_count": 26,
   "id": "01021666",
   "metadata": {},
   "outputs": [
    {
     "name": "stdout",
     "output_type": "stream",
     "text": [
      "True\n",
      "False\n"
     ]
    }
   ],
   "source": [
    "# Membership test\n",
    "s = {1, 2, 3, 4, 5, 6}\n",
    "print(3 in s)\n",
    "print(7 in s)"
   ]
  },
  {
   "cell_type": "code",
   "execution_count": 31,
   "id": "7aeff7bd",
   "metadata": {},
   "outputs": [
    {
     "name": "stdout",
     "output_type": "stream",
     "text": [
      "{1, 2, 3, 4, 5, 6, 7, 8, 9, 10}\n",
      "{9, 5}\n",
      "{9, 5}\n"
     ]
    }
   ],
   "source": [
    "# Mathematical Operations in Sets\n",
    "s1 = {1,2, 3, 4, 5, 9}\n",
    "s2 = {5, 6, 7, 8, 9, 10}\n",
    "\n",
    "union_set = s1.union(s2)\n",
    "print(union_set)\n",
    "\n",
    "intersection_set = s1.intersection(s2)\n",
    "print(intersection_set)\n",
    "\n",
    "s1.intersection_update(s2)\n",
    "print(s1)"
   ]
  },
  {
   "cell_type": "code",
   "execution_count": 32,
   "id": "0492bb27",
   "metadata": {},
   "outputs": [
    {
     "name": "stdout",
     "output_type": "stream",
     "text": [
      "{1, 2, 3, 4}\n"
     ]
    }
   ],
   "source": [
    "s1 = {1,2, 3, 4, 5, 9}\n",
    "s2 = {5, 6, 7, 8, 9, 10}\n",
    "\n",
    "# Difference\n",
    "print(s1.difference(s2))"
   ]
  },
  {
   "cell_type": "code",
   "execution_count": 34,
   "id": "f66e5fd0",
   "metadata": {},
   "outputs": [
    {
     "data": {
      "text/plain": [
       "{1, 2, 3, 4, 6, 7, 8, 10}"
      ]
     },
     "execution_count": 34,
     "metadata": {},
     "output_type": "execute_result"
    }
   ],
   "source": [
    "# Symmetric difference\n",
    "s1.symmetric_difference(s2)"
   ]
  },
  {
   "cell_type": "code",
   "execution_count": 38,
   "id": "4a0b4acc",
   "metadata": {},
   "outputs": [
    {
     "name": "stdout",
     "output_type": "stream",
     "text": [
      "False\n",
      "True\n",
      "False\n"
     ]
    }
   ],
   "source": [
    "# Sets Methods\n",
    "set1 = {1, 2, 3}\n",
    "set2 = {3, 4, 5}\n",
    "set3 = {1, 2, 3}\n",
    "\n",
    "# issubset()\n",
    "print(set1.issubset(set2))\n",
    "print(set1.issubset(set3))\n",
    "\n",
    "# issuperset()\n",
    "print(set1.issuperset(set2))"
   ]
  }
 ],
 "metadata": {
  "kernelspec": {
   "display_name": "base",
   "language": "python",
   "name": "python3"
  },
  "language_info": {
   "codemirror_mode": {
    "name": "ipython",
    "version": 3
   },
   "file_extension": ".py",
   "mimetype": "text/x-python",
   "name": "python",
   "nbconvert_exporter": "python",
   "pygments_lexer": "ipython3",
   "version": "3.12.7"
  }
 },
 "nbformat": 4,
 "nbformat_minor": 5
}
