{
 "cells": [
  {
   "cell_type": "code",
   "execution_count": null,
   "id": "2acdcf44",
   "metadata": {},
   "outputs": [
    {
     "name": "stdout",
     "output_type": "stream",
     "text": [
      "<class 'dict'>\n",
      "<class 'dict'>\n"
     ]
    }
   ],
   "source": [
    "# Creating dictionary\n",
    "empty_dict = {}\n",
    "print(type(empty_dict))\n",
    "\n",
    "empty_dict = dict()\n",
    "print(type(empty_dict))"
   ]
  },
  {
   "cell_type": "code",
   "execution_count": 6,
   "id": "fa45f018",
   "metadata": {},
   "outputs": [
    {
     "name": "stdout",
     "output_type": "stream",
     "text": [
      "{'Name': 'Anand Mansabdar', 'Age': 20, 'Grade': 'A'}\n"
     ]
    }
   ],
   "source": [
    "student = {\"Name\": 'Anand Mansabdar', \"Age\": 20, 'Grade': 'A'}\n",
    "print(student)"
   ]
  },
  {
   "cell_type": "code",
   "execution_count": 13,
   "id": "0244f50b",
   "metadata": {},
   "outputs": [
    {
     "name": "stdout",
     "output_type": "stream",
     "text": [
      "Anand Mansabdar\n",
      "20\n",
      "A\n",
      "Anand Mansabdar\n",
      "None\n",
      "Cannot be accessed\n"
     ]
    }
   ],
   "source": [
    "# Accessing dictionary elements\n",
    "print(student['Name'])\n",
    "print(student['Age'])\n",
    "print(student['Grade'])\n",
    "\n",
    "# Accessing Elements using .get() method\n",
    "print(student.get('Name'))\n",
    "print(student.get('last_name'))\n",
    "print(student.get('last_name', \"Cannot be accessed\"))"
   ]
  },
  {
   "cell_type": "code",
   "execution_count": 14,
   "id": "e117a315",
   "metadata": {},
   "outputs": [
    {
     "name": "stdout",
     "output_type": "stream",
     "text": [
      "{'Name': 'Anand Mansabdar', 'Age': 21, 'Grade': 'A', 'is_student': True}\n"
     ]
    }
   ],
   "source": [
    "# Modifying Dictionary Elements\n",
    "student['Age'] = 21\n",
    "student['is_student'] = True\n",
    "print(student)"
   ]
  },
  {
   "cell_type": "code",
   "execution_count": 15,
   "id": "9747d907",
   "metadata": {},
   "outputs": [
    {
     "name": "stdout",
     "output_type": "stream",
     "text": [
      "{'Name': 'Anand Mansabdar', 'Age': 21, 'is_student': True}\n"
     ]
    }
   ],
   "source": [
    "del student['Grade']\n",
    "print(student)"
   ]
  },
  {
   "cell_type": "code",
   "execution_count": 18,
   "id": "89d3cabc",
   "metadata": {},
   "outputs": [
    {
     "name": "stdout",
     "output_type": "stream",
     "text": [
      "dict_keys(['Name', 'Age', 'is_student'])\n",
      "dict_values(['Anand Mansabdar', 21, True])\n",
      "dict_items([('Name', 'Anand Mansabdar'), ('Age', 21), ('is_student', True)])\n"
     ]
    }
   ],
   "source": [
    "# Dictionary Methods\n",
    "keys = student.keys()\n",
    "print(keys)\n",
    "values = student.values()\n",
    "print(values)\n",
    "\n",
    "items = student.items()\n",
    "print(items)"
   ]
  },
  {
   "cell_type": "code",
   "execution_count": null,
   "id": "ff45fda5",
   "metadata": {},
   "outputs": [
    {
     "name": "stdout",
     "output_type": "stream",
     "text": [
      "{'Name': 'Anand Mansabdar', 'Age': 21, 'is_student': True}\n",
      "{'Name': 'Anand', 'Age': 21, 'is_student': True}\n",
      "{'Name': 'Anand', 'Age': 21, 'is_student': True}\n"
     ]
    }
   ],
   "source": [
    "# SHallow copy\n",
    "student_copy = student\n",
    "print(student_copy)\n",
    "student['Name'] = 'Anand'\n",
    "print(student)\n",
    "print(student_copy)"
   ]
  },
  {
   "cell_type": "code",
   "execution_count": 21,
   "id": "2024046b",
   "metadata": {},
   "outputs": [
    {
     "name": "stdout",
     "output_type": "stream",
     "text": [
      "{'Name': 'Anand', 'Age': 21, 'is_student': False}\n",
      "{'Name': 'Anand', 'Age': 21, 'is_student': True}\n"
     ]
    }
   ],
   "source": [
    "student_copy2 = student.copy()\n",
    "student['is_student'] = False\n",
    "print(student)\n",
    "print(student_copy2)"
   ]
  },
  {
   "cell_type": "code",
   "execution_count": 26,
   "id": "f2c6d0ec",
   "metadata": {},
   "outputs": [
    {
     "name": "stdout",
     "output_type": "stream",
     "text": [
      "Name\n",
      "Age\n",
      "is_student\n",
      "\n",
      "Anand\n",
      "21\n",
      "False\n",
      "\n",
      "Name : Anand\n",
      "Age : 21\n",
      "is_student : False\n"
     ]
    }
   ],
   "source": [
    "# Iterating over dictionaries :- using Loops\n",
    "\n",
    "# 1. Iterating over keys\n",
    "for keys in student.keys():\n",
    "  print(keys)\n",
    "print()\n",
    "\n",
    "# 2. Iterating over values\n",
    "for value in student.values():\n",
    "  print(value)\n",
    "print()\n",
    "\n",
    "# 3. Iterating over items\n",
    "for key, value in student.items():\n",
    "  print(f'{key} : {value}')"
   ]
  },
  {
   "cell_type": "code",
   "execution_count": 30,
   "id": "119b8f55",
   "metadata": {},
   "outputs": [
    {
     "name": "stdout",
     "output_type": "stream",
     "text": [
      "{'player_1': {'name': 'Rohit Sharma', 'age': 38}, 'player_2': {'name': 'Virat Kohli', 'age': 37}, 'player_3': {'name': 'Shreyas Iyer', 'age': 30}}\n",
      "Rohit Sharma\n",
      "37\n"
     ]
    }
   ],
   "source": [
    "# Nested Dictionaries\n",
    "cricketers = {\n",
    "  \"player_1\": {\n",
    "    \"name\": \"Rohit Sharma\",\n",
    "    \"age\": 38\n",
    "  },\n",
    "  \"player_2\":{\n",
    "    \"name\": \"Virat Kohli\",\n",
    "    \"age\": 37\n",
    "  }, \n",
    "  \"player_3\":{\n",
    "    \"name\": \"Shreyas Iyer\",\n",
    "    \"age\": 30\n",
    "  }\n",
    "}\n",
    "\n",
    "print(cricketers)\n",
    "\n",
    "print(cricketers['player_1']['name'])\n",
    "print(cricketers['player_2']['age'])"
   ]
  },
  {
   "cell_type": "code",
   "execution_count": 34,
   "id": "c2ce6198",
   "metadata": {},
   "outputs": [
    {
     "name": "stdout",
     "output_type": "stream",
     "text": [
      "player_1: {'name': 'Rohit Sharma', 'age': 38}\n",
      "name: Rohit Sharma\n",
      "age: 38\n",
      "player_2: {'name': 'Virat Kohli', 'age': 37}\n",
      "name: Virat Kohli\n",
      "age: 37\n",
      "player_3: {'name': 'Shreyas Iyer', 'age': 30}\n",
      "name: Shreyas Iyer\n",
      "age: 30\n"
     ]
    }
   ],
   "source": [
    "# Iterating over nested dictionaries\n",
    "for player_id, player_info in cricketers.items():\n",
    "  print(f'{player_id}: {player_info}')\n",
    "  for key, value in player_info.items():\n",
    "    print(f'{key}: {value}')"
   ]
  },
  {
   "cell_type": "code",
   "execution_count": 37,
   "id": "4e14f403",
   "metadata": {},
   "outputs": [
    {
     "data": {
      "text/plain": [
       "{1: 1, 2: 4, 3: 9, 4: 16, 5: 25}"
      ]
     },
     "execution_count": 37,
     "metadata": {},
     "output_type": "execute_result"
    }
   ],
   "source": [
    "# Dictionary Comprehension\n",
    "squares = {x: x**2 for x in range(1, 6)}\n",
    "squares"
   ]
  },
  {
   "cell_type": "code",
   "execution_count": 38,
   "id": "f60193b5",
   "metadata": {},
   "outputs": [
    {
     "name": "stdout",
     "output_type": "stream",
     "text": [
      "{1: 2, 2: 2, 3: 1, 4: 5, 5: 4, 6: 1}\n"
     ]
    }
   ],
   "source": [
    "# Practical Examples\n",
    "\n",
    "# Use a dictionary to count the frequency of elements in a list\n",
    "\n",
    "nums = [1, 2, 2, 3, 4, 4, 4, 4, 4, 5, 6, 5, 5, 5, 1]\n",
    "\n",
    "frequency = {}\n",
    "\n",
    "for num in nums:\n",
    "  if num in frequency:\n",
    "    frequency[num] += 1\n",
    "  else:\n",
    "    frequency[num] = 1\n",
    "print(frequency)"
   ]
  },
  {
   "cell_type": "code",
   "execution_count": null,
   "id": "85f73558",
   "metadata": {},
   "outputs": [],
   "source": []
  }
 ],
 "metadata": {
  "kernelspec": {
   "display_name": "base",
   "language": "python",
   "name": "python3"
  },
  "language_info": {
   "codemirror_mode": {
    "name": "ipython",
    "version": 3
   },
   "file_extension": ".py",
   "mimetype": "text/x-python",
   "name": "python",
   "nbconvert_exporter": "python",
   "pygments_lexer": "ipython3",
   "version": "3.12.7"
  }
 },
 "nbformat": 4,
 "nbformat_minor": 5
}
